{
 "cells": [
  {
   "cell_type": "markdown",
   "id": "fa054e0c",
   "metadata": {},
   "source": [
    "# The DSA (Dual System Algorithm) Cryptosystem\n",
    "\n",
    "**Author**: Katsuma Onishi"
   ]
  },
  {
   "cell_type": "markdown",
   "id": "9b5817eb",
   "metadata": {},
   "source": [
    "## 1. Abstract\n",
    "\n",
    "After taking a university course in [cryptography](https://academiccalendars.romcmaster.ca/preview_course_nopop.php?catoid=53&coid=264981) at McMaster University, I was inspired to create my own cryptosystem to challenge myself and understand the difficulty of creating a secure cryptosystem. This project explores the idea of incorporating two important concepts we learnt in lectures, the [CRT](https://en.wikipedia.org/wiki/Chinese_remainder_theorem) (Chinese Remainder Theorem), and [RSA](https://en.wikipedia.org/wiki/RSA_cryptosystem) (Rivest-Shamir-Adleman) encryption system. The CRT a concept in number theory that helps solve systems of congruences, which are multiple equations involving modular arithmetic. RSA is one of the oldest and widely known asymmetric cryptosystem based on principles from modular arithmetic and number theory, which relies on the difficulty of factoring large prime numbers. I will dive deeper into these concepts in the theoretical background section."
   ]
  },
  {
   "cell_type": "markdown",
   "id": "acd33c7e",
   "metadata": {},
   "source": [
    "## 2. Introduction\n",
    "\n",
    "My goal for this project is to integrate these two concepts to build a cryptosystem that demonstrates how modular arithmetic and number theory can be used for encryption and decryption. This system is an asymmetric cryptosystem, meaning it uses a pair of different keys; a public key to encrypt messages, and a private key to decrypt the message. The public key can be shared publicly while the private key must be kept secret.\n",
    "\n",
    "It's important to note that this cryptosystem is **NOT** secure,, so it is not recommended to encrypt highly important information with it, but it is a fun way to showcase how to encode and decode messages using different fundamental cryptography methods."
   ]
  },
  {
   "cell_type": "markdown",
   "id": "1c5c13bd",
   "metadata": {},
   "source": [
    "## 3. Theoretical Background\n",
    "\n",
    "This section is intended for those who are unfamiliar with modular arithmetic and why it is important in cryptography. I will provide a brief overview of the key mathematical concepts used for this project, including modular arithmetic, the Chinese Remainder Theorem, and RSA cryptosystem.\n",
    "\n",
    "### Modular Arithmetic\n",
    "\n",
    "Modular arithmetic is a system of arithmetic for integers, which focuses on the remainder after being divided by a certian value called the **modulus**. Converting military 24 hour time into conventional 12 hour time uses the concept of modular arithmetic, where the modulus is 12. For example, 17:00 in military time is converted into 5:00. We are taking $17\\equiv 5 \\mod 12$, where we take 17 divided by 12, and getting a remainder of 5. \n",
    "\n",
    "Using modular arithmetic allows operations like modular exponents and modular inverses, which is capable of scrambling up big numbers easily but difficult to unscramble without knowing the numbers used to scramble. This concept is what makes modular arithmetic the backbone of cryptography.\n",
    "\n",
    "More about Modular Arithmetic can be read [here](https://en.wikipedia.org/wiki/Modular_arithmetic).\n",
    "\n",
    "### CRT - Chinese Remainder Theorem\n",
    "\n",
    "As mentioned before, CRT is a concept from number theory that helps solve system of congruences. These set of equations can look something like:\n",
    "\n",
    "$x \\equiv a_1 \\mod m_1$\n",
    "$x \\equiv a_2 \\mod m_2$\n",
    "\n",
    "where $m_1$ and $m_2$ are co-prime, the CRT says that there is a unique solution for $x \\mod (m_1 \\times m_2)$.\n",
    "\n",
    "CRT is an important concept in cryptography since it is often used to speed up computations for decryption. Instead of working work large numbers, we can break up the problem using CRT to work with smaller numbers, which take less computational power to compute. \n",
    "\n",
    "More about CRT can be read [here](https://en.wikipedia.org/wiki/Chinese_remainder_theorem).\n",
    "\n",
    "\n",
    "### RSA - Rivest-Shamir-Adleman\n",
    "\n",
    "RSA is one of the earliest and well known asymmetric cryptosystem, that relies on the difficulty of factoring a product of two large prime numbers. In an RSA system, a public key is used to encrypt a message and a private key is used to decrypt the message. \n",
    "\n",
    "More about RSA can be read [here](https://en.wikipedia.org/wiki/RSA_cryptosystem)."
   ]
  },
  {
   "cell_type": "markdown",
   "id": "12c48f0f",
   "metadata": {},
   "source": [
    " ## 4. DSA Encryption Process\n",
    "\n",
    " ### 4.1 Public key generation steps\n",
    "\n",
    "DSA follows a similar process to RSA when encrypting a message, where we first generate public keys:\n",
    "\n",
    "* Generate two large prime numbers p and q \n",
    "* Convert plain text into an integer which is represented by M, this will be the secretmessage being sent. The integer M must be less than p*q for this system to work. If bigger messages need to be sent, they can be done so in multiple blocks. \n",
    "* Calculate ϕ(n) = (p - 1) * (q - 1). \n",
    "* Choose e, which represents the public exponent such that e is coprime with ϕ(n) i.e. gcd(𝑒,(𝑝 − 1)(𝑞 −1)) = 1 to ensure that a modular inverse of e exists. Choosing a large e may be more secure, however it can make the encryption computation much slower, and choosing a small e may be vulnerable to attacks. \n",
    "\n",
    "The set of public keys are (p, q, e)\n",
    "\n",
    "### 4.2 Encrytion steps\n",
    "\n",
    "Now that we have a set of public keys, we can use them to encrypt our private message M\n",
    "\n",
    "* Compute $C_1 \\equiv \\mod M^e \\mod p$, which encrypts our message M with modulo p\n",
    "* Compute $C_2 \\equiv \\mod M^e \\mod q$, which encrypts our message M with modulo q\n",
    "\n",
    "We should now have our original message M, a pair of large prime numbers p and q, n which is the product of our primes, a public exponent e, and a pair of cipher text $C_1$ and $C_2$."
   ]
  },
  {
   "cell_type": "markdown",
   "id": "0d123b65",
   "metadata": {},
   "source": [
    "## 5. DSA Decrption Process\n",
    "\n",
    "Here is where our integration of the CRT comes into play.\n",
    "\n",
    "### 5.1 Private key generation steps\n",
    "\n",
    "* Compute $d_p \\equiv e^{-1} \\mod (p-1)$, the modular inverse of e modulo p-1\n",
    "* Compute $d_q \\equiv e^{-1} \\mod (q-1)$, the modular inverse of e modulo q-1\n",
    "\n",
    "We now have a set of private keys $d_p$ and $d_q$ used to decrypt our cipher text $C_1$ and $C_2$\n",
    "\n",
    "### 5.2 Decryption steps\n",
    "\n",
    "* Compute $M_p \\equiv C_1^{d_p} \\mod p$\n",
    "* Compute $M_q \\equiv C_2^{d_q} \\mod q$\n",
    "* Combine $M_p$ and $M_q$ into the original message M to obtain a system of congruences;\n",
    "$M \\equiv M_p \\mod p$\n",
    "$M \\equiv M_q \\mod q$\n",
    "* Use the CRT to solve the system of congruences to obtain M\n",
    "\n",
    "After these decryption steps, we should end up with the original message M."
   ]
  },
  {
   "cell_type": "markdown",
   "id": "4cf39120",
   "metadata": {},
   "source": [
    "# 6. Security\n",
    "\n",
    "As stated in the introduction this cryptosystem is not secure. Although there is a private key, all the information needed to calculate it is contained in the public key. Before we showcase how easily this system breaks down, we will talk about some potential security benefits. These benefits can be valuable especially when the attacker does not know the encryption and decryption algorithm. First, frequency analysis is not effective in trying to decode messages in this system. This is due to modular exponentiation to scramble the cipher takes unlike classical cyphers which can use letter frequencies to analyze systems \n",
    "and figure out certain letters. The system is also non-linear due to modular exponentiation which means that if a plaintext-cyphertext is known by an attacker it cannot easily be solved like other classical cyphers. Lastly, even if an attacker knows the encryption and decryption algorithm, if p and q are large enough the attacker would still need access to a device capable to compute large modular inverses as it is not feasible to solve on their own. So clearly a system like this is still more secure than a simple shift cypher but now we will show why it is still completely insecure.\n",
    "\n",
    "If the attacker knows the encryption and decryption algorithm and have access to a computer powerful enough to compute large modular inverses, then they can easily break down the cryptosystem. The key is that unlike RSA where p*q=N is the public key, here p and q are both in the public key which completely breaks the security of the system. \n",
    "\n",
    "## 6.1 Attack example\n",
    "\n",
    "For example, let's say there is a public key (p, q, e) which are published, and an attacker interceps a message that is encoded with the public key ($C_1$, $C_2$) then the attacker has all the information they need. They can find the private keys $d_p \\equiv e^{-1} \\mod (p-1)$ $d_q \\equiv e^{e-1} \\mod (q-1)$ using p, q and e already known to the public to find $M_p \\equiv C_1^{d_p} \\mod p$ and $M_q \\equiv C_2^{d_q} \\mod q$. Once they find these values, they can set up the system of equations $M \\equiv M_p \\mod p$ and $M \\equiv M_q \\mod q$, where they can use the CRT to solve the system for M to obtain the original message. The key is the attacker knowing the decrpyiton algorithm which makes the rest of the attack easy as all the information needed is already known publicly.\n"
   ]
  },
  {
   "cell_type": "markdown",
   "id": "1e0337cc",
   "metadata": {},
   "source": [
    "# 7. Simple example with code\n",
    "\n",
    "For this example, we will encrypt a smaller message using smaller prime numbers to show more clearly how the encryption process works. Larger prime numbers should be used for \n",
    "better security as well as so that larger messages can be sent. \n",
    "\n",
    "## 7.1 Public key generation\n",
    "\n",
    "For this example, lets pretend we are sending over a 3-digit pin code to our friend. In this example our message is already an integer but if we wanted to send English text, we could do so by converting words into integers using [ASCII](https://en.wikipedia.org/wiki/ASCII) or by encoding the English letters corresponding to the number of the alphabet (i.e. A=1, B=2, C=3 etc.). Suppose the password we want to send our friend is 701. We can choose p and q to be prime numbers now, but we must ensure $701 \\lt p \\cdot q$. \n",
    "\n",
    "Let p = 23, q = 31 ($701 \\lt 23 \\cdot 31 = 713$) and choose an $e$ such that $\\gcd (e, (p-1)(q-1)) = 1$. $(p-1)\\cdot(q-1) = 22 \\cdot 30 = 660$, let e = 29 because $\\gcd (29,  660) = 1$"
   ]
  },
  {
   "cell_type": "code",
   "execution_count": null,
   "id": "e1b3b334",
   "metadata": {},
   "outputs": [
    {
     "name": "stdout",
     "output_type": "stream",
     "text": [
      "DSA Cryptosystem Demonstration\n",
      "\n",
      "Fixed primes: p = 23, q = 31\n",
      "Modulus n = p*q = 713\n",
      "φ(n) = (p-1)(q-1) = 660\n",
      "Public exponent e = 29 (gcd(e,φ(n)) = 1)\n",
      "Message M = 701\n",
      "\n",
      "Public keys (p, q, e) = (23, 31, 29)\n"
     ]
    }
   ],
   "source": [
    "import math\n",
    "\n",
    "# Key's used for this example\n",
    "p = 23\n",
    "q = 31\n",
    "e = 29\n",
    "\n",
    "# Original message to be encrypted\n",
    "M = 701\n",
    "\n",
    "n = p * q\n",
    "phi_n = (p-1) * (q-1)\n",
    "\n",
    "print(\"DSA simple example using fixed values\\n\")\n",
    "\n",
    "# Keys used for example\n",
    "print(\"7.1 Public key generation\")\n",
    "print(f\"Fixed primes: p = {p}, q = {q}\")\n",
    "print(f\"Modulus n = p*q = {n}\")\n",
    "print(f\"φ(n) = (p-1)(q-1) = {phi_n}\")\n",
    "print(f\"Public exponent e = {e} (gcd(e,φ(n)) = {math.gcd(e, phi_n)})\")\n",
    "print(f\"Message M = {M}\\n\")\n",
    "print(f\"Public keys: (p, q, e) = ({p}, {q}, {e})\")"
   ]
  },
  {
   "cell_type": "markdown",
   "id": "77311a2d",
   "metadata": {},
   "source": [
    "## 7.2 Encryption process\n",
    "\n",
    "Now that we have the public keys (p, q, e) = (23, 31, 29) we can start the encryption process."
   ]
  },
  {
   "cell_type": "code",
   "execution_count": null,
   "id": "53c4641e",
   "metadata": {},
   "outputs": [
    {
     "name": "stdout",
     "output_type": "stream",
     "text": [
      "\n",
      "\n",
      "7.2 Encryption process\n",
      "\n",
      "Compute C1 ≡ M^e mod p ≡ 701^29 mod 23:\n",
      "C1 = 7 (since 701^29 mod 23 = 7)\n",
      "\n",
      "Compute C2 ≡ M^e mod q ≡ 701^29 mod 31:\n",
      "C2 = 18 (since 701^29 mod 31 = 18)\n",
      "\n",
      "Ciphertexts: (C1, C2) = (7, 18)\n",
      "\n"
     ]
    }
   ],
   "source": [
    "print(\"\\n\\n7.2 Encryption process\\n\")\n",
    "\n",
    "# Encryption calculations\n",
    "print(f\"Compute C1 ≡ M^e mod p ≡ {M}^{e} mod {p}:\")\n",
    "C1 = pow(M, e, p)\n",
    "print(f\"C1 = {C1} (since {M}^{e} mod {p} = {C1})\")\n",
    "\n",
    "print(f\"\\nCompute C2 ≡ M^e mod q ≡ {M}^{e} mod {q}:\")\n",
    "C2 = pow(M, e, q)\n",
    "print(f\"C2 = {C2} (since {M}^{e} mod {q} = {C2})\")\n",
    "\n",
    "print(f\"\\nCiphertexts: (C1, C2) = ({C1}, {C2})\")"
   ]
  },
  {
   "cell_type": "markdown",
   "id": "4458e8fb",
   "metadata": {},
   "source": [
    "## 7.3 Private key generation\n",
    "\n",
    "To decrypt our cipher texts, we must first compute our private keys $d_p$ and $d_q$."
   ]
  },
  {
   "cell_type": "code",
   "execution_count": null,
   "id": "00395d51",
   "metadata": {},
   "outputs": [
    {
     "name": "stdout",
     "output_type": "stream",
     "text": [
      "\n",
      "\n",
      "7.3 Private key generation\n",
      "\n",
      "dp ≡ e⁻¹ mod (p-1) → 19 ≡ 29⁻¹ mod 22\n",
      "dq ≡ e⁻¹ mod (q-1) → 29 ≡ 29⁻¹ mod 30\n",
      "\n",
      "Private key: (dp, dq) = (19, 29)\n",
      "\n"
     ]
    }
   ],
   "source": [
    "print(\"\\n\\n7.3 Private key generation\\n\")\n",
    "\n",
    "# Modular inverse calculations\n",
    "dp = pow(e, -1, p-1)\n",
    "dq = pow(e, -1, q-1)\n",
    "\n",
    "print(f\"dp ≡ e⁻¹ mod (p-1) -> {dp} ≡ {e}⁻¹ mod {p-1}\")\n",
    "print(f\"dq ≡ e⁻¹ mod (q-1) -> {dq} ≡ {e}⁻¹ mod {q-1}\")\n",
    "print(f\"\\nPrivate keys: (dp, dq) = ({dp}, {dq})\")"
   ]
  },
  {
   "cell_type": "markdown",
   "id": "57518d0d",
   "metadata": {},
   "source": [
    "## 7.4 Decryption process\n",
    "\n",
    "Now that we have our private keys (dp, dq) = (19, 29), we can start the decryption process using CRT."
   ]
  },
  {
   "cell_type": "code",
   "execution_count": null,
   "id": "42fd2df7",
   "metadata": {},
   "outputs": [
    {
     "name": "stdout",
     "output_type": "stream",
     "text": [
      "\n",
      "\n",
      "7.4 Decryption process\n",
      "\n",
      "Compute Mp ≡ C1^dp mod p ≡ 7^19 mod 23:\n",
      "Mp = 11\n",
      "\n",
      "Compute Mq ≡ C2^dq mod q ≡ 18^29 mod 31:\n",
      "Mq = 19\n",
      "\n",
      "Apply Chinese Remainder Theorem to solve:\n",
      "M ≡ 11 mod 23\n",
      "M ≡ 19 mod 31\n",
      "\n",
      "CRT Solution: M = 701\n"
     ]
    }
   ],
   "source": [
    "print(\"\\n\\n7.4 Decryption process\\n\")\n",
    "\n",
    "# Decryption process calculations\n",
    "print(f\"Compute Mp ≡ C1^dp mod p ≡ {C1}^{dp} mod {p}:\")\n",
    "Mp = pow(C1, dp, p)\n",
    "print(f\"Mp = {Mp}\")\n",
    "\n",
    "print(f\"\\nCompute Mq ≡ C2^dq mod q ≡ {C2}^{dq} mod {q}:\")\n",
    "Mq = pow(C2, dq, q)\n",
    "print(f\"Mq = {Mq}\\n\")\n",
    "\n",
    "print(\"Apply Chinese Remainder Theorem to solve:\")\n",
    "print(f\"M ≡ {Mp} mod {p}\")\n",
    "print(f\"M ≡ {Mq} mod {q}\")\n",
    "\n",
    "# CHinese Remainder Theorem function\n",
    "def crt(a, p, b, q):\n",
    "    inv_q = pow(q, -1, p)\n",
    "    inv_p = pow(p, -1, q)\n",
    "    x = (a * q * inv_q + b * p * inv_p) % (p*q)\n",
    "    return x\n",
    "\n",
    "decrypted_M = crt(Mp, p, Mq, q)\n",
    "print(f\"\\nCRT Solution: M = {decrypted_M}\")"
   ]
  },
  {
   "cell_type": "markdown",
   "id": "8f6d8966",
   "metadata": {},
   "source": [
    "To confirm that our code for DSA worked, the original message M and our decrypted message should match."
   ]
  },
  {
   "cell_type": "code",
   "execution_count": null,
   "id": "ce5351ef",
   "metadata": {},
   "outputs": [
    {
     "name": "stdout",
     "output_type": "stream",
     "text": [
      "\n",
      "Verification\n",
      "\n",
      "Original message M: 701\n",
      "Decrypted message: 701\n",
      "\n",
      "Decryption successful! M = 701 = Decrpyted message = 701\n"
     ]
    }
   ],
   "source": [
    "print(\"\\nVerification\\n\")\n",
    "print(f\"Original message M: {M}\")\n",
    "print(f\"Decrypted message: {decrypted_M}\\n\")\n",
    "\n",
    "if M == decrypted_M:\n",
    "    print(f\"Decryption successful! M = {M} = Decrpyted message = {decrypted_M}\")\n",
    "else:\n",
    "    print(f\"Decryption failed... M = {M} ≠ Decrypted message = {decrypted_M}\")\n"
   ]
  },
  {
   "cell_type": "markdown",
   "id": "57d2bf54",
   "metadata": {},
   "source": [
    "# 8. Conclusion\n",
    "\n",
    "This project deepened my understanding of the world of cryptography and the measures that go behind creating a secure and reliable cryptosystems. Hands on experience with cryptographic system allowed me to turn my theoretical knowledge learnt in my lectures into practical understanding. Throughb building, testing and analyzing this system I gained crucial insights into the careful balance between mathematical theory and practical security considerations that proper cryptosystems require."
   ]
  },
  {
   "cell_type": "markdown",
   "id": "d5ffa38a",
   "metadata": {},
   "source": [
    "# 9. References\n",
    "\n",
    "## 9.1 Academic references\n",
    "\n",
    "[MATH 3CY3](https://academiccalendars.romcmaster.ca/preview_course_nopop.php?catoid=53&coid=264981)\n",
    "\n",
    "## 9.2 Textbook references\n",
    "\n",
    "[An Introduction to Mathematical Cryptography](https://link.springer.com/book/10.1007/978-0-387-77993-5)\n",
    "\n",
    "## 9.2 Online resources\n",
    "\n",
    "* [CRT](https://en.wikipedia.org/wiki/Chinese_remainder_theorem)\n",
    "* [RSA](https://en.wikipedia.org/wiki/RSA_cryptosystem)\n",
    "* [Modular Arithmetic](https://en.wikipedia.org/wiki/Modular_arithmetic).\n",
    "* [ASCII](https://en.wikipedia.org/wiki/ASCII)\n",
    "\n",
    "## 9.3 Python libraries used\n",
    "\n",
    "* [math](https://docs.python.org/3/library/math.html)\n",
    "\n",
    "\n"
   ]
  }
 ],
 "metadata": {
  "kernelspec": {
   "display_name": "Python 3",
   "language": "python",
   "name": "python3"
  },
  "language_info": {
   "codemirror_mode": {
    "name": "ipython",
    "version": 3
   },
   "file_extension": ".py",
   "mimetype": "text/x-python",
   "name": "python",
   "nbconvert_exporter": "python",
   "pygments_lexer": "ipython3",
   "version": "3.13.3"
  }
 },
 "nbformat": 4,
 "nbformat_minor": 5
}
